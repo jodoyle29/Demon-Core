{
 "cells": [
  {
   "cell_type": "markdown",
   "id": "d4aec6c9",
   "metadata": {},
   "source": [
    "### Imports"
   ]
  },
  {
   "cell_type": "code",
   "execution_count": 1,
   "id": "5aa62036",
   "metadata": {},
   "outputs": [],
   "source": [
    "import numpy as np\n",
    "import matplotlib.pyplot as plt\n",
    "import numba\n",
    "from ipywidgets import interact, interactive, fixed, interact_manual\n",
    "import ipywidgets as widgets\n",
    "%config InlineBackend.figure_format = 'retina'\n",
    "plt.rcParams[\"figure.figsize\"] = (5,5)"
   ]
  },
  {
   "cell_type": "markdown",
   "id": "3f476211",
   "metadata": {},
   "source": [
    "### Neutron diffusion equation\n",
    "\n",
    "\n",
    "The two-dimensional (2D) neutron equation is similar to the heat equation\n",
    "$$\n",
    "\\frac{\\partial \\phi}{\\partial t} = D \\nabla^2 \\phi\n",
    "$$\n",
    "only that we have an additional source term $\\gamma N$. This is beacuase in the fission process, neutrons are released from splitting atoms. Our new equation will take the from\n",
    "$$\n",
    "\\frac{\\partial N}{\\partial t} = D \\nabla^2 N + \\gamma N\n",
    "$$\n",
    "where $N$ is the neutron density and $\\gamma$ is defined as \n",
    "$$\n",
    "\\frac{\\mu - 1}{\\tau} = \\gamma\n",
    "$$\n",
    "\n",
    "where $\\mu$ is the average number of neutrons released per fission and $\\tau$ is the time between fissions. Since we are simply using the average value of $\\mu$, this term will be treated as constant. Using the discretization of the Laplacian in 2D that we used in class, we have\n",
    "$$\n",
    "\\frac{\\partial N_{n_x,n_y}}{\\partial t} \\approx \\frac{D}{\\delta_x^2}\\left[N_{n_x+1,n_y}\n",
    "+N_{n_x-1,n_y}\n",
    "+N_{n_x,n_y+1}\n",
    "+N_{n_x,n_y-1}-4N_{n_x,n_y}\\right]\n",
    "+\\gamma N_{n_x,n_y}\n",
    "$$\n",
    "\n",
    "Treating this using Euler's method, replacing\n",
    "\n",
    "$$\n",
    "\\frac{\\partial N_{n_x,n_y}}{\\partial t} \\approx \\frac{N_{n_x,n_y}(t_m+\\delta_t)-N_{n_x,n_y}(t_m)}{\\delta_t}\n",
    "$$\n",
    "\n",
    "with some discrete time-step $\\delta_t$ and setting $t_m = m\\delta_t$. We now have the explicit iteration\n",
    "$$\n",
    " N_{n_x,n_y}(t_{m+1}) = N_{n_x,n_y}(t_m)+ \\frac{D \\delta_t}{\\delta_x^2}\\left[N_{n_x+1,n_y}(t_m)\n",
    "+N_{n_x-1,n_y}(t_m)\n",
    "+N_{n_x,n_y+1}(t_m)\n",
    "+N_{n_x,n_y-1}(t_m)-4N_{n_x,n_y}(t_m)\\right]\n",
    "+\\delta_t\\gamma N_{n_x,n_y}(t_m)\n",
    "$$"
   ]
  },
  {
   "cell_type": "code",
   "execution_count": 2,
   "id": "ad4a223b",
   "metadata": {},
   "outputs": [],
   "source": [
    "@numba.njit\n",
    "def diffusion_2d(N0,  # initial guess\n",
    "                 bnd, # boundary\n",
    "                 D,   # diffusion\n",
    "                 δx,  # spacing-x\n",
    "                 δt,  # spacing-t\n",
    "                 nt,  # number of time steps\n",
    "                 γ):  # source term coefficient\n",
    "    \n",
    "    counter = 0\n",
    "    nx,ny = N0.shape\n",
    "    N = np.zeros((nx,ny,nt))\n",
    "    d = D*δt/δx**2\n",
    "    N[:,:,0] = np.copy(N0)\n",
    "    for it in range(1,nt):\n",
    "        for ix in range(0,nx):\n",
    "            for iy in range(0,ny):   \n",
    "                if (bnd[ix,iy] == False):\n",
    "                    N[ix,iy,it] = N[ix,iy,it-1] + d*(\n",
    "                        N[(ix+1)%nx,iy,it-1]+\n",
    "                        N[(ix-1)%nx,iy,it-1]+\n",
    "                        N[ix,(iy+1)%ny,it-1]+\n",
    "                        N[ix,(iy-1)%ny,it-1]-4*N[ix,iy,it-1]\n",
    "                    ) + δt*γ*N[ix,iy,it-1]\n",
    "                else:\n",
    "                    N[ix,iy,it] = N[ix,iy,it-1]\n",
    "    return N"
   ]
  },
  {
   "cell_type": "markdown",
   "id": "3d0062ce",
   "metadata": {},
   "source": [
    "For our first test case to see that the diffusion equation works, we will consider a simple sqaure. We first look at a system that is sub-critical, meaning that the number fo neutrons leaving through the edges is less than the number of neutrons being produced. In the early phases, we will consider the simple case of Dirichlet's boundary conditions, that is, where the number of neutrons at the edges is kept at zero."
   ]
  },
  {
   "cell_type": "code",
   "execution_count": 3,
   "id": "7dac09ff",
   "metadata": {},
   "outputs": [
    {
     "data": {
      "text/plain": [
       "<matplotlib.image.AxesImage at 0x7fc1e2ef4b20>"
      ]
     },
     "execution_count": 3,
     "metadata": {},
     "output_type": "execute_result"
    },
    {
     "data": {
      "image/png": "[encoded data removed]",
      "text/plain": [
       "<Figure size 500x500 with 1 Axes>"
      ]
     },
     "metadata": {
      "image/png": {
       "height": 428,
       "width": 448
      }
     },
     "output_type": "display_data"
    }
   ],
   "source": [
    "n = 100\n",
    "N0 = np.zeros((n,n))\n",
    "bnd = np.full((n,n),False,dtype=bool)\n",
    "bnd[:,0] = bnd[:,-1] = True\n",
    "bnd[0,:] = bnd[-1,:] = True\n",
    "\n",
    "x = n//2\n",
    "dx = n//8\n",
    "N0[(x-dx):(x+dx),(x-dx):(x+dx)] = 1.0\n",
    "plt.imshow(np.transpose(N0),extent=(-0.5,0.5,-0.5,0.5),origin='lower',cmap='coolwarm',vmin=-1,vmax=+1)"
   ]
  },
  {
   "cell_type": "code",
   "execution_count": 4,
   "id": "f4aa3170",
   "metadata": {},
   "outputs": [],
   "source": [
    "α = 0.1\n",
    "D = 1.0\n",
    "δx = 1.0/n\n",
    "δt = δx**2/D*α\n",
    "t1 = 0.1\n",
    "nt = int(t1/δt)\n",
    "γ = 3.0\n",
    "\n",
    "Nd = diffusion_2d(N0, bnd, D, δx, δt, nt, γ)"
   ]
  },
  {
   "cell_type": "code",
   "execution_count": 5,
   "id": "f08e02bf",
   "metadata": {},
   "outputs": [
    {
     "data": {
      "application/vnd.jupyter.widget-view+json": {
       "model_id": "c44afdbb165a416eaab08d5d333a121a",
       "version_major": 2,
       "version_minor": 0
      },
      "text/plain": [
       "interactive(children=(FloatSlider(value=0.0, description='t', max=0.1, step=1e-05), Output()), _dom_classes=('…"
      ]
     },
     "metadata": {},
     "output_type": "display_data"
    }
   ],
   "source": [
    "@widgets.interact(t=(0.0,t1,δt))\n",
    "def disp(t=0):\n",
    "    it = int(t/t1*(nt-1))\n",
    "    N = Nd[:,:,it]\n",
    "    plt.imshow(np.transpose(N),extent=(-0.5,0.5,-0.5,0.5),cmap='coolwarm',origin='lower',vmin=-1,vmax=+1)\n",
    "    plt.contour(np.transpose(N),levels=30,linewidths=0.5,colors='k',alpha=0.5,\n",
    "            extent=(-0.5,0.5,-0.5,0.5),origin='lower')"
   ]
  },
  {
   "cell_type": "markdown",
   "id": "50873206",
   "metadata": {},
   "source": [
    "Taking out a slice, it levels out towards zero, as expected."
   ]
  },
  {
   "cell_type": "code",
   "execution_count": 6,
   "id": "a5957716",
   "metadata": {},
   "outputs": [
    {
     "data": {
      "application/vnd.jupyter.widget-view+json": {
       "model_id": "fc8aa3a288a64e90b5841e10f0761c76",
       "version_major": 2,
       "version_minor": 0
      },
      "text/plain": [
       "interactive(children=(FloatSlider(value=0.0, description='t', max=0.1, step=1e-05), Output()), _dom_classes=('…"
      ]
     },
     "metadata": {},
     "output_type": "display_data"
    }
   ],
   "source": [
    "@widgets.interact(t = (0.0, t1, δt))\n",
    "def disp(t = 0):\n",
    "    it = int(t/t1*(nt - 1))\n",
    "    N = Nd[:,:,it]\n",
    "    Y = np.linspace(-0.5, 0.5, n)\n",
    "    plt.ylim(0, 1.1)\n",
    "    plt.xlim(-0.5, 0.5)\n",
    "    plt.plot(Y, N[n//2,:])"
   ]
  },
  {
   "cell_type": "markdown",
   "id": "8c3adcd8",
   "metadata": {},
   "source": [
    "Now we can see what happens when the source term is large (by inceasing $\\gamma$). The system becomes super-critical, meaning that the number of neutrons leaving the edges is less than the number of neutrons being produced"
   ]
  },
  {
   "cell_type": "code",
   "execution_count": 7,
   "id": "4ea38dfb",
   "metadata": {},
   "outputs": [],
   "source": [
    "α = 0.1\n",
    "D = 1.0\n",
    "δx = 1.0/n\n",
    "δt = δx**2/D*α\n",
    "t1 = 0.1\n",
    "nt = int(t1/δt)\n",
    "γ = 55.0\n",
    "\n",
    "Nd = diffusion_2d(N0, bnd, D, δx, δt, nt, γ)"
   ]
  },
  {
   "cell_type": "code",
   "execution_count": 8,
   "id": "db85dfbe",
   "metadata": {},
   "outputs": [
    {
     "data": {
      "application/vnd.jupyter.widget-view+json": {
       "model_id": "9f705825393d4becae01ea957cc14eae",
       "version_major": 2,
       "version_minor": 0
      },
      "text/plain": [
       "interactive(children=(FloatSlider(value=0.0, description='t', max=0.1, step=1e-05), Output()), _dom_classes=('…"
      ]
     },
     "metadata": {},
     "output_type": "display_data"
    }
   ],
   "source": [
    "@widgets.interact(t=(0.0,t1,δt))\n",
    "def disp(t=0):\n",
    "    it = int(t/t1*(nt-1))\n",
    "    N = Nd[:,:,it]\n",
    "    plt.imshow(np.transpose(N),extent=(-0.5,0.5,-0.5,0.5),cmap='coolwarm',origin='lower',vmin=-1,vmax=+1)\n",
    "    plt.colorbar()\n",
    "    plt.contour(np.transpose(N),levels=30,linewidths=0.5,colors='k',alpha=0.5,\n",
    "            extent=(-0.5,0.5,-0.5,0.5),origin='lower')"
   ]
  },
  {
   "cell_type": "markdown",
   "id": "a76e62dd",
   "metadata": {},
   "source": [
    "Taking out a slice, we can see it initially dies out, and then begins to grow very rapidly (this is the source term taking over, creating neutrons faster than they are being destroyed at the boundaries)."
   ]
  },
  {
   "cell_type": "code",
   "execution_count": 9,
   "id": "9957706d",
   "metadata": {},
   "outputs": [
    {
     "data": {
      "application/vnd.jupyter.widget-view+json": {
       "model_id": "6ca7e3a7eff64e9ea0f84904ed58af5f",
       "version_major": 2,
       "version_minor": 0
      },
      "text/plain": [
       "interactive(children=(FloatSlider(value=0.0, description='t', max=0.1, step=1e-05), Output()), _dom_classes=('…"
      ]
     },
     "metadata": {},
     "output_type": "display_data"
    }
   ],
   "source": [
    "@widgets.interact(t = (0.0, t1, δt))\n",
    "def disp(t = 0):\n",
    "    it = int(t/t1*(nt - 1))\n",
    "    N = Nd[:,:,it]\n",
    "    Y = np.linspace(-0.5, 0.5, n)\n",
    "    plt.ylim(0, 1.1)\n",
    "    plt.xlim(-0.5, 0.5)\n",
    "    plt.plot(Y, N[n//2,:])"
   ]
  },
  {
   "cell_type": "markdown",
   "id": "080156bc",
   "metadata": {},
   "source": [
    "### Numerical Stability\n",
    "\n",
    "We can be sure that our system \"blowing up\" is in fact caused by this super-critical state rather than numerical error since our stability condition is met, that is, $\\alpha < 1/4$. We can see what happens when this isn't the case and our system is no longer numerically stable"
   ]
  },
  {
   "cell_type": "code",
   "execution_count": 10,
   "id": "74c711c0",
   "metadata": {},
   "outputs": [
    {
     "data": {
      "application/vnd.jupyter.widget-view+json": {
       "model_id": "b5754bb913884c1da0025e92c1efd7e3",
       "version_major": 2,
       "version_minor": 0
      },
      "text/plain": [
       "interactive(children=(FloatSlider(value=0.0, description='t', max=0.1, step=2.6000000000000002e-05), Output())…"
      ]
     },
     "metadata": {},
     "output_type": "display_data"
    }
   ],
   "source": [
    "α = 0.26\n",
    "D = 1.0\n",
    "δx = 1.0/n\n",
    "δt = δx**2/D*α\n",
    "t1 = 0.1\n",
    "nt = int(t1/δt)\n",
    "γ = 1.0\n",
    "\n",
    "Nd = diffusion_2d(N0, bnd, D, δx, δt, nt, γ)\n",
    "\n",
    "@widgets.interact(t=(0.0,t1,δt))\n",
    "def disp(t=0):\n",
    "    it = int(t/t1*(nt-1))\n",
    "    N = Nd[:,:,it]\n",
    "    plt.imshow(np.transpose(N),extent=(-0.5,0.5,-0.5,0.5),cmap='coolwarm',origin='lower',vmin=-1,vmax=+1)\n",
    "    plt.colorbar()\n",
    "    plt.contour(np.transpose(N),levels=30,linewidths=0.5,colors='k',alpha=0.5,\n",
    "            extent=(-0.5,0.5,-0.5,0.5),origin='lower')"
   ]
  },
  {
   "cell_type": "code",
   "execution_count": 11,
   "id": "2b0f7e3c",
   "metadata": {},
   "outputs": [
    {
     "data": {
      "application/vnd.jupyter.widget-view+json": {
       "model_id": "36a4d675d6434cfb9db38dd97606924f",
       "version_major": 2,
       "version_minor": 0
      },
      "text/plain": [
       "interactive(children=(FloatSlider(value=0.0, description='t', max=0.1, step=2.6000000000000002e-05), Output())…"
      ]
     },
     "metadata": {},
     "output_type": "display_data"
    }
   ],
   "source": [
    "@widgets.interact(t = (0.0, t1, δt))\n",
    "def disp(t = 0):\n",
    "    it = int(t/t1*(nt - 1))\n",
    "    N = Nd[:,:,it]\n",
    "    Y = np.linspace(-0.5, 0.5, n)\n",
    "    plt.ylim(0, 1.1)\n",
    "    plt.xlim(-0.5, 0.5)\n",
    "    plt.plot(Y, N[n//2,:])"
   ]
  },
  {
   "cell_type": "markdown",
   "id": "5a584f3a",
   "metadata": {},
   "source": [
    "### A more appropriate shape\n",
    "\n",
    "Now we will consider a more accurate geometry. The demon core was two small hemispheres stacked one on top of the other, with a ring around the \"equator\" to prevent neutrons from jetting out of the sides. In this 2D case, we will consider two semi-circles with blocks at the edges where these semi-cirlces touch"
   ]
  },
  {
   "cell_type": "code",
   "execution_count": 12,
   "id": "4de8c700",
   "metadata": {
    "scrolled": false
   },
   "outputs": [
    {
     "data": {
      "text/plain": [
       "<matplotlib.image.AxesImage at 0x7fc1d96ac1f0>"
      ]
     },
     "execution_count": 12,
     "metadata": {},
     "output_type": "execute_result"
    },
    {
     "data": {
      "image/png": "[encoded data removed]",
      "text/plain": [
       "<Figure size 500x500 with 1 Axes>"
      ]
     },
     "metadata": {
      "image/png": {
       "height": 428,
       "width": 448
      }
     },
     "output_type": "display_data"
    }
   ],
   "source": [
    "nx, ny = 50, 50\n",
    "\n",
    "X,δx = np.linspace(-0.5,0.5, nx, retstep = True)\n",
    "Y,δy = np.linspace(-0.5,0.5, ny, retstep = True)\n",
    "\n",
    "mx,my = np.meshgrid(X,Y)\n",
    "\n",
    "region = (mx/0.4)**2 + (my/0.4)**2 < 0.5**2\n",
    "\n",
    "V = np.zeros((nx,ny))\n",
    "V[region] = 1.0\n",
    "\n",
    "V[:, ny//2] = 0 # taking a slice out\n",
    "V[14:16,(nx//2):(nx//2+1)] = 1 # adding our left block\n",
    "V[34:36,(nx//2):(nx//2+1)] = 1 # adding our right block\n",
    "\n",
    "plt.imshow(np.transpose(V),extent=(-0.5,0.5,-0.5,0.5),\n",
    "           origin='lower',cmap='coolwarm',vmin=-1,vmax=+1)"
   ]
  },
  {
   "cell_type": "markdown",
   "id": "ee96412e",
   "metadata": {},
   "source": [
    "### Correcting dimensions\n",
    "\n",
    "Given that the average number of neutrons emitted per fission of uranium 235 is 2.52, and the average time it takes for fission to occur is $10^{-8}s$, we can insert these into the definition of $\\gamma$ and obtain a more reasonable value of\n",
    "\n",
    "$$\n",
    "\\frac{2.52 - 1}{10^{-8}{\\rm s}} = 1.52 \\cdot 10^{8}s^{-1} = \\gamma\n",
    "$$\n",
    "\n",
    "We will estimate the diffusion constant $D \\approx 2.33 \\cdot 10^{9} {\\rm cm}^2/{\\rm s}$. Since these values are quite large and may cause some memory allocation issues, we will rescale to $D = 1$ and $\\gamma = 6.52\\cdot10^{-2}$ by divinding both constants by the magnitude of $D$. \n"
   ]
  },
  {
   "cell_type": "markdown",
   "id": "bdfcc8c6",
   "metadata": {},
   "source": [
    "### Defining new boundaries\n",
    "\n",
    "We will assume that our boundaries are a thick box surrounding the core itself."
   ]
  },
  {
   "cell_type": "code",
   "execution_count": 13,
   "id": "aa3c5050",
   "metadata": {},
   "outputs": [
    {
     "data": {
      "text/plain": [
       "<matplotlib.image.AxesImage at 0x7fc1a98658a0>"
      ]
     },
     "execution_count": 13,
     "metadata": {},
     "output_type": "execute_result"
    },
    {
     "data": {
      "image/png": "[encoded data removed]",
      "text/plain": [
       "<Figure size 500x500 with 1 Axes>"
      ]
     },
     "metadata": {
      "image/png": {
       "height": 428,
       "width": 448
      }
     },
     "output_type": "display_data"
    }
   ],
   "source": [
    "bnd = np.full((nx,ny), False, dtype=int)\n",
    "\n",
    "size = nx//4\n",
    "\n",
    "bnd[:,:] = 0\n",
    "\n",
    "# Creating the void\n",
    "bnd[0:size,:]  = 5 \n",
    "bnd[3*size+2:50,:] = 5 \n",
    "bnd[:,0:size]  = 5 \n",
    "bnd[:,3*size+1:50] = 5 \n",
    "\n",
    "bnd[size,size:3*size+1] = 1 # left side\n",
    "bnd[3*size+1,size:3*size+1:] = 2 # right side\n",
    "bnd[size:3*size+1,size] = 3 # bottom\n",
    "bnd[size:3*size+1:,3*size] = 4 # top\n",
    "\n",
    "B = np.zeros((nx,ny))\n",
    "B = [bnd]\n",
    "\n",
    "plt.imshow(np.transpose(B),extent=(-0.5,0.5,-0.5,0.5),\n",
    "           origin='lower',cmap='coolwarm',vmin=-1,vmax=+1, alpha=0.5)\n",
    "plt.imshow(np.transpose(V),extent=(-0.5,0.5,-0.5,0.5),\n",
    "           origin='lower',cmap='coolwarm',vmin=-1,vmax=+1, alpha=0.5)"
   ]
  },
  {
   "cell_type": "markdown",
   "id": "ebb900d0",
   "metadata": {},
   "source": [
    "## Considering boundary conditions\n",
    "\n",
    "\n",
    "### First boundary condition, Dirichlet\n",
    "\n",
    "Applying the first boundary condition, we can see that the nuetrons are in fact destroyed at the boundary. With the given values, the core is sub-critical the deutron density will decay over time, reaching some steady state.\n",
    "\n",
    "This will be simply be setting \n",
    "\n",
    "$$\n",
    "N_{n_x,n_y}(t_{m+1}) = 0\n",
    "$$\n",
    "\n",
    "at the boundaries."
   ]
  },
  {
   "cell_type": "code",
   "execution_count": 14,
   "id": "00fd22d2",
   "metadata": {},
   "outputs": [],
   "source": [
    "@numba.njit\n",
    "def diffusion_2d_Dirichlet(N0,  # initial guess\n",
    "                 bnd, # boundary\n",
    "                 D,   # diffusion\n",
    "                 δx,  # spacing-x\n",
    "                 δt,  # spacing-t\n",
    "                 nt,  # number of time steps\n",
    "                 γ):  # source term coefficient\n",
    "    \n",
    "    counter = 0\n",
    "    nx,ny = N0.shape\n",
    "    N = np.zeros((nx,ny,nt))\n",
    "    d = D*δt/δx**2\n",
    "    N[:,:,0] = np.copy(N0)\n",
    "    for it in range(1,nt):\n",
    "        for ix in range(0,nx):\n",
    "            for iy in range(0,ny):   \n",
    "                if (bnd[ix,iy] == False):\n",
    "                    N[ix,iy,it] = N[ix,iy,it-1] + d*(\n",
    "                        N[(ix+1)%nx,iy,it-1]+\n",
    "                        N[(ix-1)%nx,iy,it-1]+\n",
    "                        N[ix,(iy+1)%ny,it-1]+\n",
    "                        N[ix,(iy-1)%ny,it-1]-4*N[ix,iy,it-1]\n",
    "                    ) + δt*γ*N[ix,iy,it-1]\n",
    "                else:\n",
    "                    N[ix,iy,it] = 0\n",
    "    return N"
   ]
  },
  {
   "cell_type": "code",
   "execution_count": 15,
   "id": "9e5eeafe",
   "metadata": {},
   "outputs": [
    {
     "name": "stdout",
     "output_type": "stream",
     "text": [
      "4.164931278633902e-05\n"
     ]
    },
    {
     "data": {
      "application/vnd.jupyter.widget-view+json": {
       "model_id": "d0be698202324806ae6ea76eae182e14",
       "version_major": 2,
       "version_minor": 0
      },
      "text/plain": [
       "interactive(children=(FloatSlider(value=0.0, description='t', max=7.0, step=4.164931278633902e-05), Output()),…"
      ]
     },
     "metadata": {},
     "output_type": "display_data"
    }
   ],
   "source": [
    "α = 1e-1\n",
    "D = 1\n",
    "δt = δx**2/D*α\n",
    "t1 = 7\n",
    "nt = int(t1/δt)\n",
    "γ = 6.52e-2\n",
    "\n",
    "Nd = diffusion_2d_Dirichlet(V, bnd, D, δx, δt, nt, γ)\n",
    "\n",
    "print(δt)\n",
    "\n",
    "@widgets.interact(t=(0.0,t1,δt))\n",
    "def disp(t=0):\n",
    "    it = int(t/t1*(nt-1))\n",
    "    N = Nd[:,:,it]\n",
    "    plt.imshow(np.transpose(N),extent=(-0.5,0.5,-0.5,0.5),cmap='coolwarm',origin='lower',vmin=-1,vmax=+1)\n",
    "    plt.colorbar()\n",
    "    plt.contour(np.transpose(N),levels=30,linewidths=0.5,colors='k',alpha=0.5,\n",
    "            extent=(-0.5,0.5,-0.5,0.5),origin='lower')"
   ]
  },
  {
   "cell_type": "markdown",
   "id": "0a8eed6f",
   "metadata": {},
   "source": [
    "### Second boundary condition, Robin/mixed\n",
    "\n",
    "Applying the Robin boundary condition, the neutrons will not be confined within the box surronding the core. They will be free to pass through. The end result should be similar to the Dirichlet boundary conditions, only it should take slightly longer to reach a steady state. For this step we will have to correct our solver for the diffusion equation to accomodate these new boudnaries.\n",
    "\n",
    "This will be done by setting\n",
    "\n",
    "$$\n",
    "N_x = \\frac{-2}{3}\\frac{dN}{dx} ,  N_y = \\frac{-2}{3}\\frac{dN}{dy}\n",
    "$$\n",
    "\n",
    "Discretizing this for each side of our box: \n",
    "\n",
    "for the right side we get\n",
    "$$\n",
    "N_{n_x, n_y}(t_{m+1}) = \\frac{2}{3}\\frac{N_{n_{x-1}, n_y}(t_m) - N_{n_x, n_y}(t_m)}{\\delta_x}\n",
    "$$\n",
    "\n",
    "\n",
    "for the left side we get\n",
    "$$\n",
    "N_{n_x, n_y}(t_{m+1}) = \\frac{2}{3}\\frac{N_{n_{x+1}, n_y}(t_m) - N_{n_x, n_y}(t_m)}{\\delta_x}\n",
    "$$\n",
    "\n",
    "\n",
    "for the top we get\n",
    "$$\n",
    "N_{n_x, n_y}(t_{m+1}) = \\frac{2}{3}\\frac{N_{n_x, n_{y-1}}(t_m) - N_{n_x, n_y}(t_m)}{\\delta_x}\n",
    "$$\n",
    "\n",
    "\n",
    "for the bottom we get\n",
    "$$\n",
    "N_{n_x, n_y}(t_{m+1}) = \\frac{2}{3}\\frac{N_{n_x, n_{y+1}}(t_m) - N_{n_x, n_y}(t_m)}{\\delta_x}\n",
    "$$"
   ]
  },
  {
   "cell_type": "code",
   "execution_count": 16,
   "id": "96649fc6",
   "metadata": {},
   "outputs": [],
   "source": [
    "@numba.njit\n",
    "def diffusion_2d_free(N0,  # initial guess\n",
    "                 bnd, # boundary\n",
    "                 D,   # diffusion\n",
    "                 δx,  # spacing-x\n",
    "                 δt,  # spacing-t\n",
    "                 nt,  # number of time steps\n",
    "                 γ):  # source term coefficient\n",
    "    \n",
    "    nx,ny = N0.shape\n",
    "    N = np.zeros((nx,ny,nt))\n",
    "    d = D*δt/δx**2\n",
    "    N[:,:,0] = np.copy(N0)\n",
    "    for it in range(1,nt):\n",
    "        for ix in range(0,nx):\n",
    "            for iy in range(0,ny):   \n",
    "                if (bnd[ix,iy] == 0):\n",
    "                    N[ix,iy,it] = N[ix,iy,it-1] + d*(\n",
    "                        N[(ix+1)%nx,iy,it-1]+\n",
    "                        N[(ix-1)%nx,iy,it-1]+\n",
    "                        N[ix,(iy+1)%ny,it-1]+\n",
    "                        N[ix,(iy-1)%ny,it-1]-\n",
    "                        4*N[ix,iy,it-1]\n",
    "                    ) + δt*γ*N[ix,iy,it-1]\n",
    "                \n",
    "                if (bnd[ix,iy] == 1): # left bnd\n",
    "    \n",
    "                    N[ix,iy,it] = (2/3)*(N[ix+1,iy,it-1] - N[ix,iy,it-1])\n",
    "                    \n",
    "                elif (bnd[ix,iy]==2): # right bnd\n",
    "                    \n",
    "                    N[ix,iy,it] = (2/3)*(N[ix-1,iy,it-1] - N[ix,iy,it-1])\n",
    "                    \n",
    "                elif (bnd[ix,iy] == 3 ): # bottom bnd\n",
    "                   \n",
    "                    N[ix,iy,it] = (2/3)*(N[ix,iy+1,it-1] - N[ix,iy,it-1])\n",
    "                    \n",
    "                elif (bnd[ix,iy] == 4): # top bnd\n",
    "                   \n",
    "                    N[ix,iy,it] = (2/3)*(N[ix,iy-1,it-1] - N[ix,iy,it-1])\n",
    "                   \n",
    "                    \n",
    "    return N"
   ]
  },
  {
   "cell_type": "code",
   "execution_count": 17,
   "id": "8fc782f0",
   "metadata": {},
   "outputs": [
    {
     "name": "stdout",
     "output_type": "stream",
     "text": [
      "4.164931278633902e-05\n"
     ]
    },
    {
     "data": {
      "application/vnd.jupyter.widget-view+json": {
       "model_id": "e1ef313a761443e0ae7b10272f3a197d",
       "version_major": 2,
       "version_minor": 0
      },
      "text/plain": [
       "interactive(children=(FloatSlider(value=0.0, description='t', max=7.0, step=4.164931278633902e-05), Output()),…"
      ]
     },
     "metadata": {},
     "output_type": "display_data"
    }
   ],
   "source": [
    "α = 1e-1\n",
    "D = 1\n",
    "δt = δx**2/D*α\n",
    "t1 = 7\n",
    "nt = int(t1/δt)\n",
    "γ = 6.52e-2\n",
    "\n",
    "Nd = diffusion_2d_free(V, bnd, D, δx, δt, nt, γ)\n",
    "\n",
    "print(δt)\n",
    "\n",
    "@widgets.interact(t=(0.0,t1,δt))\n",
    "def disp(t=0):\n",
    "    it = int(t/t1*(nt-1))\n",
    "    N = Nd[:,:,it]\n",
    "    plt.imshow(np.transpose(N),extent=(-0.5,0.5,-0.5,0.5),cmap='coolwarm',origin='lower',vmin=-1,vmax=+1)\n",
    "    plt.colorbar()\n",
    "    plt.contour(np.transpose(N),levels=30,linewidths=0.5,colors='k',alpha=0.5,\n",
    "            extent=(-0.5,0.5,-0.5,0.5),origin='lower')"
   ]
  },
  {
   "cell_type": "markdown",
   "id": "b170178d",
   "metadata": {},
   "source": [
    "### Replicating the incident's boundary conditions (Neumann)\n",
    "\n",
    "During the second incident of the Demon Core, there were two halves of the reflecor, which were initially seperated, causing the core to be close to but slightly below criticality. During the experiment, the top half was dropped onto the bottom half, forming a completely closed relfective chamber, causing the system to become super-critical. We will simulate this \"slightly open\" geometry, were the relfectors are not quite touching. For this step we will have to correct our solver for the diffusion equation to accomodate these new boudnaries."
   ]
  },
  {
   "cell_type": "code",
   "execution_count": 18,
   "id": "e8baa259",
   "metadata": {},
   "outputs": [
    {
     "data": {
      "text/plain": [
       "<matplotlib.image.AxesImage at 0x7fc1d96606a0>"
      ]
     },
     "execution_count": 18,
     "metadata": {},
     "output_type": "execute_result"
    },
    {
     "data": {
      "image/png": "[encoded data removed]",
      "text/plain": [
       "<Figure size 500x500 with 1 Axes>"
      ]
     },
     "metadata": {
      "image/png": {
       "height": 428,
       "width": 448
      }
     },
     "output_type": "display_data"
    }
   ],
   "source": [
    "bnd = np.full((nx,ny), False, dtype=int)\n",
    "bnd[:,:] = 0\n",
    "\n",
    "size = nx//4\n",
    "\n",
    "# Creating the void\n",
    "bnd[0:size,:]  = 5 \n",
    "bnd[3*size+2:50,:] = 5 \n",
    "bnd[:,0:size]  = 5 \n",
    "bnd[:,3*size+1:50] = 5 \n",
    "\n",
    "bnd[size,size:3*size+1] = 1 # right side\n",
    "bnd[3*size+1,size:3*size+1:] = 2 # left side\n",
    "bnd[size:3*size+1,size] = 3 # bottom\n",
    "bnd[size:3*size+1:,3*size] = 4 # top\n",
    "\n",
    "bnd[:, ny//2-1: ny//2+1] = 0 # taking out a slice\n",
    "\n",
    "B = np.zeros((nx,ny))\n",
    "B = [bnd]\n",
    "\n",
    "plt.imshow(np.transpose(B),extent=(-0.5,0.5,-0.5,0.5),\n",
    "           origin='lower',cmap='coolwarm',vmin=-1,vmax=+1, alpha=0.5)\n",
    "plt.imshow(np.transpose(V),extent=(-0.5,0.5,-0.5,0.5),\n",
    "           origin='lower',cmap='coolwarm',vmin=-1,vmax=+1, alpha=0.5)"
   ]
  },
  {
   "cell_type": "markdown",
   "id": "a4242478",
   "metadata": {},
   "source": [
    "For this step we will have to correct our solver for the diffusion equation to accomodate these new boudnaries.\n",
    "\n",
    "This will be done by setting \n",
    "\n",
    "$$\n",
    "\\frac{dN}{dx} = 0\n",
    "$$\n",
    "\n",
    "Discretizing this for each side of our box: \n",
    "\n",
    "for the right side we get\n",
    "$$\n",
    "N_{n_x, n_y}(t_{m+1}) = N_{n_{x-1}, n_y}(t_m)\n",
    "$$\n",
    "\n",
    "\n",
    "for the left side we get\n",
    "$$\n",
    "N_{n_x, n_y}(t_{m+1}) = N_{n_{x+1}, n_y}(t_m)\n",
    "$$\n",
    "\n",
    "\n",
    "for the top we get\n",
    "$$\n",
    "N_{n_x, n_y}(t_{m+1}) = N_{n_{x, n_{y-1}}}(t_m)\n",
    "$$\n",
    "\n",
    "\n",
    "for the bottom we get\n",
    "$$\n",
    "N_{n_x, n_y}(t_{m+1}) = N_{n_{x, n_{y+1}}}(t_m)\n",
    "$$"
   ]
  },
  {
   "cell_type": "code",
   "execution_count": 19,
   "id": "30bb5308",
   "metadata": {},
   "outputs": [],
   "source": [
    "@numba.njit\n",
    "def diffusion_2d_reflector(N0,  # initial guess\n",
    "                 bnd, # boundary\n",
    "                 D,   # diffusion\n",
    "                 δx,  # spacing-x\n",
    "                 δt,  # spacing-t\n",
    "                 nt,  # number of time steps\n",
    "                 γ):  # source term coefficient\n",
    "    \n",
    "    nx,ny = N0.shape\n",
    "    N = np.zeros((nx,ny,nt))\n",
    "    d = D*δt/δx**2\n",
    "    N[:,:,0] = np.copy(N0)\n",
    "    for it in range(1,nt):\n",
    "        for ix in range(0,nx):\n",
    "            for iy in range(0,ny):   \n",
    "                if (bnd[ix,iy] == 0):\n",
    "                    N[ix,iy,it] = N[ix,iy,it-1] + d*(\n",
    "                        N[(ix+1)%nx,iy,it-1]+\n",
    "                        N[(ix-1)%nx,iy,it-1]+\n",
    "                        N[ix,(iy+1)%ny,it-1]+\n",
    "                        N[ix,(iy-1)%ny,it-1]-\n",
    "                        4*N[ix,iy,it-1]\n",
    "                    ) + δt*γ*N[ix,iy,it-1]\n",
    "                \n",
    "                if (bnd[ix,iy] == 1): # left bnd\n",
    "    \n",
    "                     N[ix,iy,it] = N[ix+1,iy,it-1]\n",
    "                    \n",
    "                elif (bnd[ix,iy]==2): # right bnd\n",
    "                    \n",
    "                    N[ix,iy,it] = N[ix-1,iy,it-1]\n",
    "                    \n",
    "                elif (bnd[ix,iy] == 3 ): # bottom bnd\n",
    "                   \n",
    "                  N[ix,iy,it] = N[ix,iy+1,it-1]\n",
    "                    \n",
    "                elif (bnd[ix,iy] == 4): # top bnd\n",
    "                   \n",
    "                    N[ix,iy,it] = N[ix,iy-1,it-1]\n",
    "                   \n",
    "                    \n",
    "    return N"
   ]
  },
  {
   "cell_type": "code",
   "execution_count": 20,
   "id": "e9b58cd1",
   "metadata": {},
   "outputs": [
    {
     "name": "stdout",
     "output_type": "stream",
     "text": [
      "4.164931278633902e-05\n"
     ]
    },
    {
     "data": {
      "application/vnd.jupyter.widget-view+json": {
       "model_id": "d937f711a82c43f3bf75c4e64c12b7e3",
       "version_major": 2,
       "version_minor": 0
      },
      "text/plain": [
       "interactive(children=(FloatSlider(value=0.0, description='t', max=10.0, step=0.0002082465639316951), Output())…"
      ]
     },
     "metadata": {},
     "output_type": "display_data"
    }
   ],
   "source": [
    "α = 1e-1\n",
    "D = 1\n",
    "δt = δx**2/D*α\n",
    "t1 = 10\n",
    "nt = int(t1/δt)\n",
    "γ = 6.52e-2\n",
    "\n",
    "Nd = diffusion_2d_reflector(V, bnd, D, δx, δt, nt, γ)\n",
    "\n",
    "print(δt)\n",
    "\n",
    "@widgets.interact(t=(0.0,t1,5*δt))\n",
    "def disp(t=0):\n",
    "    it = int(t/t1*(nt-1))\n",
    "    N = Nd[:,:,it]\n",
    "    plt.imshow(np.transpose(N),extent=(-0.5,0.5,-0.5,0.5),cmap='coolwarm',origin='lower',vmin=-1,vmax=+1)\n",
    "    plt.colorbar()\n",
    "    plt.contour(np.transpose(N),levels=30,linewidths=0.5,colors='k',alpha=0.5,\n",
    "            extent=(-0.5,0.5,-0.5,0.5),origin='lower')"
   ]
  },
  {
   "cell_type": "code",
   "execution_count": 21,
   "id": "6882341c",
   "metadata": {},
   "outputs": [
    {
     "data": {
      "application/vnd.jupyter.widget-view+json": {
       "model_id": "d62d03a9f3d1465e8fcc9fdc32033d90",
       "version_major": 2,
       "version_minor": 0
      },
      "text/plain": [
       "interactive(children=(FloatSlider(value=0.0, description='t', max=10.0, step=4.164931278633902e-05), Output())…"
      ]
     },
     "metadata": {},
     "output_type": "display_data"
    }
   ],
   "source": [
    "@widgets.interact(t=(0.0,t1,δt))\n",
    "def disp(t=0):\n",
    "    it = int(t/t1*(nt-1))\n",
    "    N = (Nd[:,ny//2,it])\n",
    "    plt.plot(N)\n",
    "    plt.ylim(-0.2,1.1)"
   ]
  },
  {
   "cell_type": "markdown",
   "id": "94f25118",
   "metadata": {},
   "source": [
    "As we can see, the neutrons are able to escape out of the gap preventing the system from becoming super critical. We can see what the system would have looked like after the top reflector was dropped on the bottom reflector, effectly creating a closed reflecting chamber by closing this gap."
   ]
  },
  {
   "cell_type": "markdown",
   "id": "fd973c6f",
   "metadata": {},
   "source": [
    "### Neumann (without gap)\n",
    "\n",
    "Applying the Neumann boundary condition (with no gap), we can see that it behaves as a perfect reflector and the system will inevitably reach a super-critcal state as the neutron density will infinitely continue to increase over time. This resembles the boundary conditions after Dr Slotin's screwdriver slipped and the two halves of the reflectors made contact."
   ]
  },
  {
   "cell_type": "code",
   "execution_count": 22,
   "id": "cee10973",
   "metadata": {},
   "outputs": [
    {
     "data": {
      "text/plain": [
       "<matplotlib.image.AxesImage at 0x7fc1c6e1c1f0>"
      ]
     },
     "execution_count": 22,
     "metadata": {},
     "output_type": "execute_result"
    },
    {
     "data": {
      "image/png": "[encoded data removed]",
      "text/plain": [
       "<Figure size 500x500 with 1 Axes>"
      ]
     },
     "metadata": {
      "image/png": {
       "height": 428,
       "width": 448
      }
     },
     "output_type": "display_data"
    }
   ],
   "source": [
    "bnd = np.full((nx,ny), False, dtype=int)\n",
    "\n",
    "size = nx//4\n",
    "\n",
    "bnd[:,:] = 0\n",
    "\n",
    "# Creating the void\n",
    "bnd[0:size,:]  = 5 \n",
    "bnd[3*size+2:50,:] = 5 \n",
    "bnd[:,0:size]  = 5 \n",
    "bnd[:,3*size+1:50] = 5 \n",
    "\n",
    "bnd[size,size:3*size+1] = 1 # right side\n",
    "bnd[3*size+1,size:3*size+1:] = 2 # left side\n",
    "bnd[size:3*size+1,size] = 3 # bottom\n",
    "bnd[size:3*size+1:,3*size] = 4 # top\n",
    "\n",
    "B = np.zeros((nx,ny))\n",
    "B = [bnd]\n",
    "\n",
    "plt.imshow(np.transpose(B),extent=(-0.5,0.5,-0.5,0.5),\n",
    "           origin='lower',cmap='coolwarm',vmin=-1,vmax=+1, alpha=0.5)\n",
    "plt.imshow(np.transpose(V),extent=(-0.5,0.5,-0.5,0.5),\n",
    "           origin='lower',cmap='coolwarm',vmin=-1,vmax=+1, alpha=0.5)"
   ]
  },
  {
   "cell_type": "code",
   "execution_count": 23,
   "id": "802cec8a",
   "metadata": {
    "scrolled": false
   },
   "outputs": [
    {
     "name": "stdout",
     "output_type": "stream",
     "text": [
      "4.164931278633902e-05\n"
     ]
    },
    {
     "data": {
      "application/vnd.jupyter.widget-view+json": {
       "model_id": "d0c1c6b4477a451db8a855b7fd89152c",
       "version_major": 2,
       "version_minor": 0
      },
      "text/plain": [
       "interactive(children=(FloatSlider(value=0.0, description='t', max=10.0, step=0.0002082465639316951), Output())…"
      ]
     },
     "metadata": {},
     "output_type": "display_data"
    }
   ],
   "source": [
    "α = 1e-1\n",
    "D = 1\n",
    "δt = δx**2/D*α\n",
    "t1 = 10\n",
    "nt = int(t1/δt)\n",
    "γ = 6.52e-2\n",
    "\n",
    "Nd = diffusion_2d_reflector(V, bnd, D, δx, δt, nt, γ)\n",
    "\n",
    "print(δt)\n",
    "\n",
    "@widgets.interact(t=(0.0,t1,5*δt))\n",
    "def disp(t=0):\n",
    "    it = int(t/t1*(nt-1))\n",
    "    N = Nd[:,:,it]\n",
    "    plt.imshow(np.transpose(N),extent=(-0.5,0.5,-0.5,0.5),cmap='coolwarm',origin='lower',vmin=-1,vmax=+1)\n",
    "    plt.colorbar()\n",
    "    plt.contour(np.transpose(N),levels=30,linewidths=0.5,colors='k',alpha=0.5,\n",
    "            extent=(-0.5,0.5,-0.5,0.5),origin='lower')"
   ]
  },
  {
   "cell_type": "code",
   "execution_count": 24,
   "id": "29c72f4f",
   "metadata": {},
   "outputs": [
    {
     "data": {
      "application/vnd.jupyter.widget-view+json": {
       "model_id": "1a1541feb16b4cafa32570c905e41437",
       "version_major": 2,
       "version_minor": 0
      },
      "text/plain": [
       "interactive(children=(FloatSlider(value=0.0, description='t', max=10.0, step=4.164931278633902e-05), Output())…"
      ]
     },
     "metadata": {},
     "output_type": "display_data"
    }
   ],
   "source": [
    "@widgets.interact(t=(0.0,t1,δt))\n",
    "def disp(t=0):\n",
    "    it = int(t/t1*(nt-1))\n",
    "    N = (Nd[:,ny//2,it])\n",
    "    plt.plot(N)\n",
    "    plt.ylim(-0.2,1.1)"
   ]
  },
  {
   "cell_type": "code",
   "execution_count": null,
   "id": "901c0ffa",
   "metadata": {},
   "outputs": [],
   "source": []
  }
 ],
 "metadata": {
  "kernelspec": {
   "display_name": "Python 3 (ipykernel)",
   "language": "python",
   "name": "python3"
  },
  "language_info": {
   "codemirror_mode": {
    "name": "ipython",
    "version": 3
   },
   "file_extension": ".py",
   "mimetype": "text/x-python",
   "name": "python",
   "nbconvert_exporter": "python",
   "pygments_lexer": "ipython3",
   "version": "3.10.6"
  }
 },
 "nbformat": 4,
 "nbformat_minor": 5
}
